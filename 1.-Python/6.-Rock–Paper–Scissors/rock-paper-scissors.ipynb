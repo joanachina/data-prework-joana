{
 "cells": [
  {
   "cell_type": "markdown",
   "metadata": {},
   "source": [
    "<img src=\"https://bit.ly/2VnXWr2\" width=\"100\" align=\"left\">"
   ]
  },
  {
   "cell_type": "markdown",
   "metadata": {},
   "source": [
    "# Rock, Paper & Scissors\n",
    "\n",
    "Let's play the famous game against our computer. You can check the rules [here](https://en.wikipedia.org/wiki/Rock%E2%80%93paper%E2%80%93scissors). \n",
    "\n",
    "## Task\n",
    "Create a program that imitates the playability of the well known game of rock, paper, scissors. Follow the guidelines provided.\n",
    "\n",
    "## Tools\n",
    "1. Loop: **for/while**\n",
    "2. Functions: **input(), print()...**\n",
    "3. Conditional statements: **if, elif, else**\n",
    "4. Definition of functions. Modular programming\n",
    "5. Import modules\n",
    "\n",
    "**To solve this challenge, the use of functions is recommended.**\n",
    "\n",
    "#### 1. Import the choice function of the random module."
   ]
  },
  {
   "cell_type": "code",
   "execution_count": null,
   "metadata": {},
   "outputs": [],
   "source": [
    "import random"
   ]
  },
  {
   "cell_type": "markdown",
   "metadata": {},
   "source": [
    "#### 2. Create a list that includes the 3 possible gesture options of the game: 'rock', 'paper' or 'scissors'. Store the list in a variable called `gestures`."
   ]
  },
  {
   "cell_type": "code",
   "execution_count": null,
   "metadata": {},
   "outputs": [],
   "source": [
    "gestures = ['stone', 'paper', 'scissors']"
   ]
  },
  {
   "cell_type": "markdown",
   "metadata": {},
   "source": [
    "#### 3. Create a variable called `n_rounds` to store the maximum number of rounds to play in a game. \n",
    "Remember that the number of rounds must be odd: 1, 3, 5, ..."
   ]
  },
  {
   "cell_type": "code",
   "execution_count": null,
   "metadata": {},
   "outputs": [],
   "source": [
    "n_rounds = 3"
   ]
  },
  {
   "cell_type": "markdown",
   "metadata": {},
   "source": [
    "#### 4. Create a variable called `rounds_to_win` to store the number of rounds that a player must win to win the game.\n",
    "**Hint**: the value stored in `rounds_to_win` depends on the value of `n_rounds`. "
   ]
  },
  {
   "cell_type": "code",
   "execution_count": null,
   "metadata": {},
   "outputs": [],
   "source": [
    "rounds_to_win = 2"
   ]
  },
  {
   "cell_type": "markdown",
   "metadata": {},
   "source": [
    "#### 5. Create two variables to store the number of rounds that the computer and the player have won. Call these variables `cpu_score` and `player_score`."
   ]
  },
  {
   "cell_type": "code",
   "execution_count": null,
   "metadata": {},
   "outputs": [],
   "source": [
    "wins = {'cpu_score' : 0, 'player_score' : 0 }"
   ]
  },
  {
   "cell_type": "markdown",
   "metadata": {},
   "source": [
    "#### 6. Define a function that randomly returns one of the 3 gesture options.\n",
    "You will use this function to simulate the gesture choice of the computer. "
   ]
  },
  {
   "cell_type": "code",
   "execution_count": null,
   "metadata": {},
   "outputs": [],
   "source": [
    "def resolve_computer_move(gestures):\n",
    "    return random.choice(gestures)"
   ]
  },
  {
   "cell_type": "markdown",
   "metadata": {},
   "source": [
    "#### 7. Define a function that asks the player which is the gesture he or she wants to show: 'rock', 'paper' or 'scissors'.\n",
    "The player should only be allowed to choose one of the 3 gesture options. If the player's choice is not rock, paper or scissors, keep asking until it is."
   ]
  },
  {
   "cell_type": "code",
   "execution_count": null,
   "metadata": {},
   "outputs": [],
   "source": [
    "def request_user_move(gestures):\n",
    "    while True:\n",
    "        for pos in range(len(gestures)):\n",
    "            p = str(pos) + ' - ' + gestures[pos]\n",
    "            print(p)\n",
    "        val = input('Select a gesture: ')\n",
    "        if (val.isdigit()):\n",
    "            intval = int(val)\n",
    "            if (intval < len(gestures) and intval >= 0):\n",
    "                return gestures[intval]\n",
    "        print('Please, chose a gesture from the given ones\\\\n')\n",
    "        \n",
    "            "
   ]
  },
  {
   "cell_type": "markdown",
   "metadata": {},
   "source": [
    "#### 8. Define a function that checks who won a round. \n",
    "The function should return 0 if there is a tie, 1 if the computer wins and 2 if the player wins."
   ]
  },
  {
   "cell_type": "code",
   "execution_count": null,
   "metadata": {},
   "outputs": [],
   "source": [
    "def resolve_combat(cpu_score, player_score):\n",
    "    if (cpu_score == player_score):\n",
    "        return 0\n",
    "    elif (cpu_score == 'stone'):\n",
    "        if (player_score == 'paper'):\n",
    "            return 2\n",
    "        else:\n",
    "            return 1\n",
    "    elif (cpu_score == 'paper'):\n",
    "        if (player_score == 'scissors'):\n",
    "            return 2\n",
    "        else:\n",
    "            return 1\n",
    "    else:\n",
    "        if (player_score == 'stone'):\n",
    "            return 2\n",
    "        else:\n",
    "            return 1\n",
    "        \n",
    "   "
   ]
  },
  {
   "cell_type": "markdown",
   "metadata": {},
   "source": [
    "#### 9. Define a function that prints the choice of the computer, the choice of the player and a message that announces who won the current round. \n",
    "You should also use this function to update the variables that count the number of rounds that the computer and the player have won. The score of the winner increases by one point. If there is a tie, the score does not increase."
   ]
  },
  {
   "cell_type": "code",
   "execution_count": null,
   "metadata": {},
   "outputs": [],
   "source": [
    "def show_state(cpu_score, player_score, wins):\n",
    "    print('\\\\nMachine: ', cpu_score)\n",
    "    print('Human: ', player_score)\n",
    "    print('Machine wins: ', wins['cpu_score'])\n",
    "    print('Human wins: ', wins['player_score'])\n",
    "    "
   ]
  },
  {
   "cell_type": "markdown",
   "metadata": {},
   "source": [
    "#### 10. Now it's time to code the execution of the game using the functions and variables you defined above. \n",
    "\n",
    "First, create a loop structure that repeats while no player reaches the minimum score necessary to win and the number of rounds is less than the maximum number of rounds to play in a game.  \n",
    "\n",
    "Inside the loop, use the functions and variables above to create the execution of a round: ask for the player's choice, generate the random choice of the computer, show the round results, update the scores, etc. "
   ]
  },
  {
   "cell_type": "code",
   "execution_count": null,
   "metadata": {},
   "outputs": [],
   "source": [
    "winner = ''\n",
    "games = 0\n",
    "while True:\n",
    "    computer_move = resolve_computer_move(gestures)\n",
    "    human_move = request_user_move(gestures)\n",
    "    res = resolve_combat(computer_move, human_move)\n",
    "    if (res == 1):\n",
    "        wins['cpu_score'] += 1\n",
    "    elif (res == 2):\n",
    "        wins['player_score'] += 1\n",
    "    show_state(computer_move, human_move, wins)\n",
    "    games += 1\n",
    "if (games == games_total):\n",
    "        if (wins['cpu_score'] == games_to_win):\n",
    "            winner = 'cpu_score'\n",
    "            break\n",
    "        elif (wins['player_score'] == games_to_win):\n",
    "            winner = 'player_score'\n",
    "            break\n",
    "        else:\n",
    "            print('No winner')\n",
    "            games = 0\n",
    "            wins['cpu_score'] = 0\n",
    "            wins['player_score'] = 0\n",
    "            "
   ]
  },
  {
   "cell_type": "markdown",
   "metadata": {},
   "source": [
    "#### 11. Print the winner of the game based on who won more rounds.\n",
    "Remember that the game might be tied. "
   ]
  },
  {
   "cell_type": "code",
   "execution_count": null,
   "metadata": {},
   "outputs": [],
   "source": [
    "print('The winner is: ', winner)"
   ]
  },
  {
   "cell_type": "markdown",
   "metadata": {},
   "source": [
    "# Bonus: Rock, Paper, Scissors, Lizard & Spock\n",
    "![](images/rpsls.jpg)\n",
    "\n",
    "In this challenge, you need to improve the previous game by adding two new options. To know more about the rules of the improved version of rock, paper, scissors, check this [link](http://www.samkass.com/theories/RPSSL.html). \n",
    "\n",
    "In addition, you will also need to improve how the game interacts with the player: the number of rounds to play, which must be an odd number, will be requested to the user until a valid number is entered. Define a new function to make that request.\n",
    "\n",
    "**Hint**: Try to reuse the code that you already coded in the previous challenge. If your code is efficient, this bonus will only consist of simple modifications to the original game."
   ]
  },
  {
   "cell_type": "code",
   "execution_count": null,
   "metadata": {},
   "outputs": [],
   "source": [
    "import random\n",
    "def request_odd_num():\n",
    "    while True:\n",
    "        val = input('Introduce an ODD number of games to play:')\n",
    "        if (val.isdigit()):\n",
    "            if (int(val) % 2 != 0):\n",
    "                return abs(int(val))\n",
    "            else:\n",
    "                print('An odd number, please')\n",
    "        else:\n",
    "            print('That\\\\'s not a number')\n",
    "                  \n",
    "opts = ['stone', 'paper', 'scissors', 'lizard', 'spock']\n",
    "                  \n",
    "max_games = request_odd_num()\n",
    "\n",
    "def calculate_games_to_win(max_games):\n",
    "    if (max_games == 1):\n",
    "        return 1\n",
    "    else:\n",
    "        return (int(max_games / 2)) + 1\n",
    "\n",
    "games_to_win = calculate_games_to_win(max_games)\n",
    "                  \n",
    "def resolve_computer_move(opts):\n",
    "    return random.choice(opts)\n",
    "\n",
    "def request_user_opt(opts):\n",
    "    while True:\n",
    "        for pos in range(len(opts)):\n",
    "            p = str(pos) + ' - ' + opts[pos]\n",
    "            print(p)\n",
    "        val = input('Select an option: ')\n",
    "        if (val.isdigit()):\n",
    "            intval = int(val)\n",
    "            if (intval < len(opts) and intval >= 0):\n",
    "                return opts[intval]\n",
    "        print('Please, chose an option from the given ones\\\\n')\n",
    "        \n",
    "                  \n",
    "\n",
    " def resolve_combat(machine, human):\n",
    "     if (machine == human):\n",
    "         return 0\n",
    "     elif (machine == 'stone'):\n",
    "        if (human == 'paper' or human == 'spock'):\n",
    "            return 2\n",
    "         else:\n",
    "            return 1\n",
    "     elif (machine == 'paper'):\n",
    "        if (human == 'scissors' or human == 'lizard'):\n",
    "            return 2\n",
    "        else:\n",
    "            return 1\n",
    "     elif (machine == 'scissors'):\n",
    "        if (human == 'stone' or human == 'spock'):\n",
    "            return 2\n",
    "        else:\n",
    "             return 1\n",
    "    elif (machine == 'lizard'):\n",
    "         if (human == 'stone' or human == 'scissors'):\n",
    "             return 2\n",
    "         else:\n",
    "             return 1\n",
    "    else:\n",
    "        if (human == 'paper' or human == 'lizard'):\n",
    "            return 2\n",
    "        else:\n",
    "            return 1\n",
    "\n",
    "\n",
    "def show_state(machine, human, wins):\n",
    "    print('\\\\nMachine: ', machine)\n",
    "    print('Human: ', human)\n",
    "    print('Machine wins: ', wins['machine'])\n",
    "    print('Human wins: ', wins['human'])\n",
    "\n",
    "wins = {'machine' : 0, 'human' : 0}\n",
    "                  \n",
    "                  \n",
    "winner = ''\n",
    "games = 0\n",
    "while True:\n",
    "    computer_move = resolve_computer_move(opts)\n",
    "    human_move = request_user_move(opts)\n",
    "    res = resolve_combat(computer_move, human_move)\n",
    "    if (res == 1):\n",
    "        wins['machine'] += 1\n",
    "    elif (res == 2):\n",
    "        wins['human'] += 1\n",
    "    show_state(computer_move, human_move, wins)\n",
    "    games += 1\n",
    "    if (games == max_games):\n",
    "        if (wins['machine'] == games_to_win):\n",
    "            winner = 'machine'\n",
    "            break\n",
    "        elif (wins['human'] == games_to_win):\n",
    "            winner = 'human'\n",
    "            break\n",
    "        else:\n",
    "            print('No winner this time, lets play again')\n",
    "            games = 0\n",
    "            wins['machine'] = 0\n",
    "            wins['human'] = 0 \n",
    "    \n",
    "print('The winner is: ', winner)\n",
    "                  "
   ]
  },
  {
   "cell_type": "code",
   "execution_count": null,
   "metadata": {},
   "outputs": [],
   "source": []
  }
 ],
 "metadata": {
  "kernelspec": {
   "display_name": "Python 3",
   "language": "python",
   "name": "python3"
  },
  "language_info": {
   "codemirror_mode": {
    "name": "ipython",
    "version": 3
   },
   "file_extension": ".py",
   "mimetype": "text/x-python",
   "name": "python",
   "nbconvert_exporter": "python",
   "pygments_lexer": "ipython3",
   "version": "3.8.3"
  }
 },
 "nbformat": 4,
 "nbformat_minor": 2
}
